{
 "cells": [
  {
   "cell_type": "markdown",
   "id": "5e25ea09-74d6-47e6-bad6-e922f52c3532",
   "metadata": {},
   "source": [
    "# Personal Information\n",
    "Name: **Thomas Erhard**\n",
    "\n",
    "StudentID: **15081931**\n",
    "\n",
    "Email: [**thomas.erhard@student.uva.nl**](thomas.erhard@student.uva.nl)\n",
    "\n",
    "Submitted on: **22.03.2024**\n",
    "\n",
    "GitHub Link: [**DeepRM**](https://github.com/Jinobey/DeepRM_2)"
   ]
  },
  {
   "cell_type": "markdown",
   "id": "e3cf6243-adfe-4eb8-bba3-bb2835079abd",
   "metadata": {},
   "source": [
    "# Data Context\n",
    "\n",
    "The dataset used for this thesis project is created by DeepRM_2 using *create_jobs.py* and thus synthetic. This presents a significant benefit, as it allows for adjustments and experiments with various settings and parameters, enabling the creation of a big volume of data for training our reinforcement learning (RL) agent. Given that Deep Reinforcement Learning (DRL) models typically require extensive data to devise an effective strategy, this feature of our dataset is particularly advantageous. While the used dataset adopts a simplified approach to encapsulate the aspects of multi-resource scheduling, it remains a complex scenario, enabling us to examine the efficacy of RL techniques in the field.\n",
    "\n",
    "Bearing this in mind, it is anticipated that the current dataset may undergo changes in the future, which means that the exploratory data analysis (EDA) could yield different insights. Despite this, the present EDA provides a valuable initial understanding of the data's context."
   ]
  },
  {
   "cell_type": "markdown",
   "id": "a833d964-56e1-49c7-8172-7435357624aa",
   "metadata": {},
   "source": [
    "# Data Description\n",
    "\n",
    "**Present here the results of your exploratory data analysis. Note that there is no need to have a \"story line\" - it is more important that you show your understanding of the data and the methods that you will be using in your experiments (i.e. your methodology).**\n",
    "\n",
    "**As an example, you could show data, label, or group balances, skewness, and basic characterizations of the data. Information about data frequency and distributions as well as results from reduction mechanisms such as PCA could be useful. Furthermore, indicate outliers and how/why you are taking them out of your samples, if you do so.**\n",
    "\n",
    "**The idea is, that you conduct this analysis to a) understand the data better but b) also to verify the shapes of the distributions and whether they meet the assumptions of the methods that you will attempt to use. Finally, make good use of images, diagrams, and tables to showcase what information you have extracted from your data.**"
   ]
  },
  {
   "cell_type": "code",
   "execution_count": null,
   "id": "bc94f217",
   "metadata": {},
   "outputs": [],
   "source": []
  },
  {
   "cell_type": "code",
   "execution_count": 1,
   "id": "534317db-d881-4e33-a358-754e2881e8bd",
   "metadata": {},
   "outputs": [],
   "source": [
    "# Imports\n",
    "import numpy as np\n",
    "import pandas as pd\n",
    "import matplotlib.pyplot as plt\n",
    "import seaborn as sns"
   ]
  },
  {
   "cell_type": "markdown",
   "id": "b582b299-f599-4140-a454-bcbfdeeb273f",
   "metadata": {},
   "source": [
    "### Data Loading"
   ]
  },
  {
   "cell_type": "code",
   "execution_count": 2,
   "id": "9f0cf9be-2cac-4227-957f-ad893212e70c",
   "metadata": {},
   "outputs": [
    {
     "data": {
      "text/html": [
       "<div>\n",
       "<style scoped>\n",
       "    .dataframe tbody tr th:only-of-type {\n",
       "        vertical-align: middle;\n",
       "    }\n",
       "\n",
       "    .dataframe tbody tr th {\n",
       "        vertical-align: top;\n",
       "    }\n",
       "\n",
       "    .dataframe thead th {\n",
       "        text-align: right;\n",
       "    }\n",
       "</style>\n",
       "<table border=\"1\" class=\"dataframe\">\n",
       "  <thead>\n",
       "    <tr style=\"text-align: right;\">\n",
       "      <th></th>\n",
       "      <th>Job Length</th>\n",
       "      <th>Job Resource 1</th>\n",
       "      <th>Job Resource 2</th>\n",
       "    </tr>\n",
       "  </thead>\n",
       "  <tbody>\n",
       "    <tr>\n",
       "      <th>0</th>\n",
       "      <td>16</td>\n",
       "      <td>1.0</td>\n",
       "      <td>10.0</td>\n",
       "    </tr>\n",
       "    <tr>\n",
       "      <th>1</th>\n",
       "      <td>2</td>\n",
       "      <td>2.0</td>\n",
       "      <td>9.0</td>\n",
       "    </tr>\n",
       "    <tr>\n",
       "      <th>2</th>\n",
       "      <td>3</td>\n",
       "      <td>6.0</td>\n",
       "      <td>2.0</td>\n",
       "    </tr>\n",
       "    <tr>\n",
       "      <th>3</th>\n",
       "      <td>3</td>\n",
       "      <td>1.0</td>\n",
       "      <td>9.0</td>\n",
       "    </tr>\n",
       "    <tr>\n",
       "      <th>4</th>\n",
       "      <td>21</td>\n",
       "      <td>10.0</td>\n",
       "      <td>1.0</td>\n",
       "    </tr>\n",
       "    <tr>\n",
       "      <th>...</th>\n",
       "      <td>...</td>\n",
       "      <td>...</td>\n",
       "      <td>...</td>\n",
       "    </tr>\n",
       "    <tr>\n",
       "      <th>99995</th>\n",
       "      <td>3</td>\n",
       "      <td>1.0</td>\n",
       "      <td>5.0</td>\n",
       "    </tr>\n",
       "    <tr>\n",
       "      <th>99996</th>\n",
       "      <td>1</td>\n",
       "      <td>2.0</td>\n",
       "      <td>7.0</td>\n",
       "    </tr>\n",
       "    <tr>\n",
       "      <th>99997</th>\n",
       "      <td>17</td>\n",
       "      <td>1.0</td>\n",
       "      <td>7.0</td>\n",
       "    </tr>\n",
       "    <tr>\n",
       "      <th>99998</th>\n",
       "      <td>3</td>\n",
       "      <td>2.0</td>\n",
       "      <td>7.0</td>\n",
       "    </tr>\n",
       "    <tr>\n",
       "      <th>99999</th>\n",
       "      <td>3</td>\n",
       "      <td>9.0</td>\n",
       "      <td>1.0</td>\n",
       "    </tr>\n",
       "  </tbody>\n",
       "</table>\n",
       "<p>100000 rows × 3 columns</p>\n",
       "</div>"
      ],
      "text/plain": [
       "       Job Length  Job Resource 1  Job Resource 2\n",
       "0              16             1.0            10.0\n",
       "1               2             2.0             9.0\n",
       "2               3             6.0             2.0\n",
       "3               3             1.0             9.0\n",
       "4              21            10.0             1.0\n",
       "...           ...             ...             ...\n",
       "99995           3             1.0             5.0\n",
       "99996           1             2.0             7.0\n",
       "99997          17             1.0             7.0\n",
       "99998           3             2.0             7.0\n",
       "99999           3             9.0             1.0\n",
       "\n",
       "[100000 rows x 3 columns]"
      ]
     },
     "execution_count": 2,
     "metadata": {},
     "output_type": "execute_result"
    }
   ],
   "source": [
    "# Load data\n",
    "df_jobs = pd.read_csv(\"../data/jobs.csv\")\n",
    "df_jobs"
   ]
  },
  {
   "cell_type": "markdown",
   "id": "5b3d4edb",
   "metadata": {},
   "source": [
    "For the purpose of this EDA, 100000 jobs have been created. A job consist of the *job duration*, which is represented by $T_j$ and is normally in the range between 1 and 18. For jobs that take more time, these are classified as anomalous jobs. As we have to control to create anomalous jobs, we fixed them to a maximum duration of 29t:\n",
    "\n",
    "\\begin{equation}\n",
    "    T_{j_{Normal}} = \\{T \\in \\mathbb{N} \\space | \\space 1 \\leq T \\leq 18 \\}\n",
    "\\end{equation}\n",
    "\n",
    "\\begin{equation}\n",
    "    T_{j_{Anomalous}} = \\{T \\in \\mathbb{N} \\space | \\space 19 \\leq T \\leq 29 \\}\n",
    "\\end{equation}\n",
    "\n",
    "Furthermore, each job consist of a *resource profile* $r_j$, that is known upon job arrival, and which consist of *d* resource types (such as CPU, mermory, I/O etc.) We fixed the amount of resource types to two and operated under the assumption of no preemption and a static allocation profile. This means that $r_j$ must be consistently allocated from the start of execution until the job is complete, mirroring the approach used in DeepRM. The job resource profile is represented as an vector:\n",
    "\n",
    "\\begin{equation}\n",
    "    \\vec{r}_j = \\left( [r1_{j_1}, r2_{j_1}], [r1_{j_2}, r2_{j_2}], \\ldots, [r1_{j_n}, r2_{j_n}] \\right)\n",
    "\\end{equation}\n",
    "\n",
    "Here after, we define what consists of a normal and what consist of an anomalous resource requirement:\n",
    "\n",
    "\\begin{equation}\n",
    "    r_{j_{Normal}} = \\{r \\in \\mathbb{N} \\space | \\space 1 \\leq r \\leq 10 \\}\n",
    "\\end{equation}\n",
    "\n",
    "\\begin{equation}\n",
    "    r_{j_{Anomalous}} = \\{r \\in \\mathbb{N} \\space | \\space 11 \\leq r \\leq 15 \\}\n",
    "\\end{equation}"
   ]
  },
  {
   "cell_type": "markdown",
   "id": "b4df9546-a6d7-4678-aca6-cd13d5f3c79a",
   "metadata": {},
   "source": [
    "### Analysis 1: \n",
    "Here, we explore the distribution of the job durations."
   ]
  },
  {
   "cell_type": "code",
   "execution_count": 8,
   "id": "1d3f6c91",
   "metadata": {},
   "outputs": [
    {
     "data": {
      "text/html": [
       "<div>\n",
       "<style scoped>\n",
       "    .dataframe tbody tr th:only-of-type {\n",
       "        vertical-align: middle;\n",
       "    }\n",
       "\n",
       "    .dataframe tbody tr th {\n",
       "        vertical-align: top;\n",
       "    }\n",
       "\n",
       "    .dataframe thead th {\n",
       "        text-align: right;\n",
       "    }\n",
       "</style>\n",
       "<table border=\"1\" class=\"dataframe\">\n",
       "  <thead>\n",
       "    <tr style=\"text-align: right;\">\n",
       "      <th></th>\n",
       "      <th>Job Length</th>\n",
       "      <th>Job Resource 1</th>\n",
       "      <th>Job Resource 2</th>\n",
       "    </tr>\n",
       "  </thead>\n",
       "  <tbody>\n",
       "    <tr>\n",
       "      <th>count</th>\n",
       "      <td>100000.000000</td>\n",
       "      <td>100000.00000</td>\n",
       "      <td>100000.000000</td>\n",
       "    </tr>\n",
       "    <tr>\n",
       "      <th>mean</th>\n",
       "      <td>6.353160</td>\n",
       "      <td>4.63035</td>\n",
       "      <td>4.618060</td>\n",
       "    </tr>\n",
       "    <tr>\n",
       "      <th>std</th>\n",
       "      <td>6.997743</td>\n",
       "      <td>3.45116</td>\n",
       "      <td>3.450078</td>\n",
       "    </tr>\n",
       "    <tr>\n",
       "      <th>min</th>\n",
       "      <td>1.000000</td>\n",
       "      <td>1.00000</td>\n",
       "      <td>1.000000</td>\n",
       "    </tr>\n",
       "    <tr>\n",
       "      <th>25%</th>\n",
       "      <td>2.000000</td>\n",
       "      <td>2.00000</td>\n",
       "      <td>1.000000</td>\n",
       "    </tr>\n",
       "    <tr>\n",
       "      <th>50%</th>\n",
       "      <td>3.000000</td>\n",
       "      <td>5.00000</td>\n",
       "      <td>2.000000</td>\n",
       "    </tr>\n",
       "    <tr>\n",
       "      <th>75%</th>\n",
       "      <td>13.000000</td>\n",
       "      <td>8.00000</td>\n",
       "      <td>8.000000</td>\n",
       "    </tr>\n",
       "    <tr>\n",
       "      <th>max</th>\n",
       "      <td>28.000000</td>\n",
       "      <td>14.00000</td>\n",
       "      <td>14.000000</td>\n",
       "    </tr>\n",
       "  </tbody>\n",
       "</table>\n",
       "</div>"
      ],
      "text/plain": [
       "          Job Length  Job Resource 1  Job Resource 2\n",
       "count  100000.000000    100000.00000   100000.000000\n",
       "mean        6.353160         4.63035        4.618060\n",
       "std         6.997743         3.45116        3.450078\n",
       "min         1.000000         1.00000        1.000000\n",
       "25%         2.000000         2.00000        1.000000\n",
       "50%         3.000000         5.00000        2.000000\n",
       "75%        13.000000         8.00000        8.000000\n",
       "max        28.000000        14.00000       14.000000"
      ]
     },
     "execution_count": 8,
     "metadata": {},
     "output_type": "execute_result"
    }
   ],
   "source": [
    "df_jobs.describe()"
   ]
  },
  {
   "cell_type": "markdown",
   "id": "cd340b92",
   "metadata": {},
   "source": [
    "#### Job Duration"
   ]
  },
  {
   "cell_type": "code",
   "execution_count": 3,
   "id": "4a6e7142-1a61-4e22-9bfe-5088ac6e1922",
   "metadata": {},
   "outputs": [
    {
     "data": {
      "image/png": "[encoded data removed]",
      "text/plain": [
       "<Figure size 1000x600 with 1 Axes>"
      ]
     },
     "metadata": {},
     "output_type": "display_data"
    }
   ],
   "source": [
    "# Splitting the jobs into two categories based on length\n",
    "jobs_small = df_jobs[df_jobs['Job Length'] <= 3.6 ]['Job Length']\n",
    "jobs_big = df_jobs[(df_jobs['Job Length'] >= 12) & (df_jobs['Job Length'] <= 18)]['Job Length']\n",
    "jobs_anomalous = df_jobs[df_jobs['Job Length'] > 18]['Job Length']\n",
    "\n",
    "# Set up the matplotlib figure\n",
    "plt.figure(figsize=(10, 6))\n",
    "\n",
    "# Plotting histograms for each category of job lengths\n",
    "plt.hist(jobs_small, bins=range(1, df_jobs['Job Length'].max() + 1), alpha=0.5, label='Normal Job Length (Small)', color=\"#96D38C\")\n",
    "plt.hist(jobs_big, bins=range(1, df_jobs['Job Length'].max() + 1), alpha=0.5, label='Normal Job Length (Big)', color=\"#3C8D2F\")\n",
    "plt.hist(jobs_anomalous, bins=range(1, df_jobs['Job Length'].max() + 1), alpha=0.5, label='Anomalous Job Length', color=\"#D32F2F\")\n",
    "\n",
    "# Customization\n",
    "plt.title('Distribution of Job Duration')\n",
    "plt.xlabel('Job Duration')\n",
    "plt.ylabel('Number of Jobs')\n",
    "plt.xticks(range(1, df_jobs['Job Length'].max() + 1))  # Adjust x-axis ticks for clarity\n",
    "plt.legend()  # Add a legend to distinguish between categories\n",
    "\n",
    "# Show plot\n",
    "plt.tight_layout()  # Adjust layout to make room for the plot elements\n",
    "plt.show()"
   ]
  },
  {
   "cell_type": "code",
   "execution_count": 4,
   "id": "bb577efd-8c82-48f0-bb2c-d488536df851",
   "metadata": {},
   "outputs": [
    {
     "data": {
      "text/plain": [
       "array([ 1,  2,  3, 12, 13, 14, 15, 16, 17, 18, 19, 20, 21, 22, 23, 24, 25,\n",
       "       26, 27, 28])"
      ]
     },
     "execution_count": 4,
     "metadata": {},
     "output_type": "execute_result"
    }
   ],
   "source": [
    "# Unqiue job lengths\n",
    "np.unique(df_jobs['Job Length'])"
   ]
  },
  {
   "cell_type": "code",
   "execution_count": 5,
   "id": "6bcb303c-e27a-434d-9b7f-baa500873a35",
   "metadata": {},
   "outputs": [
    {
     "name": "stdout",
     "output_type": "stream",
     "text": [
      "Total Jobs: 100000\n",
      "Normal Jobs: 94895 (94.89%)\n",
      "Anomalous Jobs: 5105 (5.10%)\n",
      "Small Jobs: 69841 (69.84%)\n",
      "Big Jobs: 25054 (25.05%)\n"
     ]
    }
   ],
   "source": [
    "# Total number of jobs\n",
    "total_jobs = len(df_jobs)\n",
    "\n",
    "# Normal and Anomalous Jobs\n",
    "normal_jobs = df_jobs[df_jobs['Job Length'] <= 18]\n",
    "anomalous_jobs = df_jobs[df_jobs['Job Length'] > 18]\n",
    "\n",
    "# Small and Big Jobs (within normal jobs)\n",
    "small_jobs = df_jobs[df_jobs['Job Length'] <= 3.6]\n",
    "big_jobs = df_jobs[(df_jobs['Job Length'] > 3.6) & (df_jobs['Job Length'] <= 18)]\n",
    "\n",
    "# Calculate counts\n",
    "count_normal = len(normal_jobs)\n",
    "count_anomalous = len(anomalous_jobs)\n",
    "count_small = len(small_jobs)\n",
    "count_big = len(big_jobs)\n",
    "\n",
    "# Calculate proportions\n",
    "prop_normal = count_normal / total_jobs\n",
    "prop_anomalous = count_anomalous / total_jobs\n",
    "prop_small = count_small / total_jobs\n",
    "prop_big = count_big / total_jobs\n",
    "\n",
    "# Print results\n",
    "print(f\"Total Jobs: {total_jobs}\")\n",
    "print(f\"Normal Jobs: {count_normal} ({prop_normal:.2%})\")\n",
    "print(f\"Anomalous Jobs: {count_anomalous} ({prop_anomalous:.2%})\")\n",
    "print(f\"Small Jobs: {count_small} ({prop_small:.2%})\")\n",
    "print(f\"Big Jobs: {count_big} ({prop_big:.2%})\")"
   ]
  },
  {
   "cell_type": "markdown",
   "id": "34f5c349-2290-4706-a274-c7a31573f7db",
   "metadata": {},
   "source": [
    "We can observe, that the job lengths are in two categorised into two categories, normal and anomalous jobs. Anomalous jobs have a lengths of 18 or higher, while jobs with a length equal or less than 18 are considered normal. It can be observed, that the distribution of normal jobs is quite interesting, with again two categories, small and big jobs. Small jobs are defined as $[1, J_L /5] = [1, 18 /5] = [1, 3.6]$ and big jobs are defined as $[J_L * 2/3, J_L] = [18 * 2/3, 18] = [12, 18]$,\n",
    "\n",
    "where $J_L$ = Job Length.\n",
    "\n",
    "There are no jobs\n",
    "\n"
   ]
  },
  {
   "cell_type": "markdown",
   "id": "98d5913a",
   "metadata": {},
   "source": [
    "#### Job Resources"
   ]
  },
  {
   "cell_type": "code",
   "execution_count": 35,
   "id": "8e111016",
   "metadata": {},
   "outputs": [
    {
     "data": {
      "text/plain": [
       "array([ 1.,  2.,  5.,  6.,  7.,  8.,  9., 10., 11., 12., 13., 14.])"
      ]
     },
     "execution_count": 35,
     "metadata": {},
     "output_type": "execute_result"
    }
   ],
   "source": [
    "# Unqiue job resources\n",
    "np.unique(df_jobs['Job Resource 1']) #same for resource 2"
   ]
  },
  {
   "cell_type": "code",
   "execution_count": 16,
   "id": "25ba1eb7",
   "metadata": {},
   "outputs": [
    {
     "data": {
      "image/png": "[encoded data removed]",
      "text/plain": [
       "<Figure size 1000x600 with 1 Axes>"
      ]
     },
     "metadata": {},
     "output_type": "display_data"
    }
   ],
   "source": [
    "# Categorize 'Job Resource 1'\n",
    "jobs_small_res1 = df_jobs[df_jobs['Job Resource 1'] <= 2]['Job Resource 1']\n",
    "jobs_big_res1 = df_jobs[(df_jobs['Job Resource 1'] > 5) & (df_jobs['Job Resource 1'] <= 10)]['Job Resource 1']\n",
    "jobs_anomalous_res1 = df_jobs[df_jobs['Job Resource 1'] > 10]['Job Resource 1']\n",
    "\n",
    "# Categorize 'Job Resource 2'\n",
    "jobs_small_res2 = df_jobs[df_jobs['Job Resource 2'] <= 2]['Job Resource 2']\n",
    "jobs_big_res2 = df_jobs[(df_jobs['Job Resource 2'] > 5) & (df_jobs['Job Resource 2'] <= 10)]['Job Resource 2']\n",
    "jobs_anomalous_res2 = df_jobs[df_jobs['Job Resource 2'] > 10]['Job Resource 2']\n",
    "\n",
    "# Combine categories from both resources for stacking\n",
    "jobs_small_combined = np.hstack((jobs_small_res1, jobs_small_res2))\n",
    "jobs_big_combined = np.hstack((jobs_big_res1, jobs_big_res2))\n",
    "jobs_anomalous_combined = np.hstack((jobs_anomalous_res1, jobs_anomalous_res2))\n",
    "\n",
    "# Determine the range for bins\n",
    "max_resource_value = max(jobs_small_combined.max(), jobs_big_combined.max(), jobs_anomalous_combined.max())\n",
    "bins_range = np.linspace(0, max_resource_value, 40)  # Adjust the number of bins as necessary\n",
    "\n",
    "# Set up the matplotlib figure\n",
    "plt.figure(figsize=(10, 6))\n",
    "\n",
    "# Stacking histograms for each category\n",
    "plt.hist([jobs_small_combined, jobs_big_combined, jobs_anomalous_combined], bins=bins_range, stacked=True, label=['Small Job Resources', 'Big Job Resources', 'Anomalous Job Resources'], color=[\"#96D38C\", \"#3C8D2F\", \"#D32F2F\"])\n",
    "\n",
    "# Customization\n",
    "plt.title('Stacked Distribution of Job Resources')\n",
    "plt.xlabel('Resource Consumption')\n",
    "plt.ylabel('Number of Jobs')\n",
    "plt.legend()\n",
    "\n",
    "# Show plot\n",
    "plt.tight_layout()\n",
    "plt.show()"
   ]
  },
  {
   "cell_type": "code",
   "execution_count": 28,
   "id": "68a4cd4a",
   "metadata": {},
   "outputs": [
    {
     "data": {
      "image/png": "[encoded data removed]",
      "text/plain": [
       "<Figure size 1000x600 with 1 Axes>"
      ]
     },
     "metadata": {},
     "output_type": "display_data"
    }
   ],
   "source": [
    "from matplotlib.lines import Line2D\n",
    "\n",
    "# Assuming your DataFrame is df_jobs\n",
    "\n",
    "# Define conditions for each category\n",
    "conditions = [\n",
    "    # Normal: Either Resource 1 is big and Resource 2 is small, or Resource 2 is big and Resource 1 is small\n",
    "    (((df_jobs['Job Resource 1'] >= 5) & (df_jobs['Job Resource 1'] <= 10) & (df_jobs['Job Resource 2'] >= 1) & (df_jobs['Job Resource 2'] <= 2)) |\n",
    "     ((df_jobs['Job Resource 2'] >= 5) & (df_jobs['Job Resource 2'] <= 10) & (df_jobs['Job Resource 1'] >= 1) & (df_jobs['Job Resource 1'] <= 2))),\n",
    "    # Anomalous: Resource 1 or Resource 2 is anomalously high\n",
    "    ((df_jobs['Job Resource 1'] >= 11) & (df_jobs['Job Resource 1'] <= 15)) | \n",
    "    ((df_jobs['Job Resource 2'] >= 11) & (df_jobs['Job Resource 2'] <= 15))\n",
    "]\n",
    "\n",
    "choices = ['Normal', 'Anomalous']\n",
    "df_jobs['Category'] = np.select(conditions, choices)\n",
    "\n",
    "# Plot\n",
    "fig, ax = plt.subplots(figsize=(10, 6))\n",
    "\n",
    "colors = {'Normal': 'green', 'Anomalous': 'red'}\n",
    "\n",
    "ax.scatter(df_jobs['Job Resource 1'], df_jobs['Job Resource 2'], c=df_jobs['Category'].map(colors), alpha=0.5)\n",
    "ax.set_xlabel('Job Resource 1')\n",
    "ax.set_ylabel('Job Resource 2')\n",
    "ax.set_title('Relationship between Job Resource 1 and Job Resource 2')\n",
    "\n",
    "# Creating a custom legend\n",
    "legend_elements = [\n",
    "    Line2D([0], [0], marker='o', color='w', label='Normal', markerfacecolor='green', markersize=10),\n",
    "    Line2D([0], [0], marker='o', color='w', label='Anomalous', markerfacecolor='red', markersize=10)\n",
    "]\n",
    "ax.legend(handles=legend_elements)\n",
    "\n",
    "plt.show()"
   ]
  },
  {
   "cell_type": "code",
   "execution_count": 30,
   "id": "0a32b482",
   "metadata": {},
   "outputs": [
    {
     "name": "stdout",
     "output_type": "stream",
     "text": [
      "Total Job Resources Categorized: 200000\n",
      "Small Job Resources: 100000 (50.00%)\n",
      "Big Job Resources: 94978 (47.49%)\n",
      "Anomalous Job Resources: 5022 (2.51%)\n"
     ]
    }
   ],
   "source": [
    "small_jobs = df_jobs[((df_jobs['Job Resource 1'] >= 1) & (df_jobs['Job Resource 1'] <= 2)) | ((df_jobs['Job Resource 2'] >= 1) & (df_jobs['Job Resource 2'] <= 2))]\n",
    "big_jobs = df_jobs[((df_jobs['Job Resource 1'] >= 5) & (df_jobs['Job Resource 1'] <= 10)) | ((df_jobs['Job Resource 2'] >= 5) & (df_jobs['Job Resource 2'] <= 10))]\n",
    "anomalous_jobs = df_jobs[((df_jobs['Job Resource 1'] >= 11) & (df_jobs['Job Resource 1'] <= 15)) | ((df_jobs['Job Resource 2'] >= 11) & (df_jobs['Job Resource 2'] <= 15))]\n",
    "\n",
    "# Calculate counts\n",
    "count_small = len(small_jobs)\n",
    "count_big = len(big_jobs)\n",
    "count_anomalous = len(anomalous_jobs)\n",
    "total_jobs = count_small + count_big + count_anomalous  # Recalculated to exclude any jobs not fitting the defined categories\n",
    "\n",
    "# Calculate proportions\n",
    "prop_small = count_small / total_jobs\n",
    "prop_big = count_big / total_jobs\n",
    "prop_anomalous = count_anomalous / total_jobs\n",
    "\n",
    "# Print results\n",
    "print(f\"Total Job Resources Categorized: {total_jobs}\")\n",
    "print(f\"Small Job Resources: {count_small} ({prop_small:.2%})\")\n",
    "print(f\"Big Job Resources: {count_big} ({prop_big:.2%})\")\n",
    "print(f\"Anomalous Job Resources: {count_anomalous} ({prop_anomalous:.2%})\")"
   ]
  },
  {
   "cell_type": "markdown",
   "id": "c2b796dc-f69d-4686-b802-bd0d8f679ee8",
   "metadata": {},
   "source": [
    "### Analysis 2: "
   ]
  },
  {
   "cell_type": "code",
   "execution_count": 4,
   "id": "c33b453f-1bc2-4cad-8021-e548d307f154",
   "metadata": {},
   "outputs": [],
   "source": [
    "# ..."
   ]
  },
  {
   "cell_type": "markdown",
   "id": "f273bea3-ecaa-4fac-83d0-5fe547b7873d",
   "metadata": {},
   "source": [
    "### Analysis n:"
   ]
  },
  {
   "cell_type": "code",
   "execution_count": 5,
   "id": "60074a1b-1ae5-46e8-971f-100199861c9c",
   "metadata": {},
   "outputs": [],
   "source": [
    "# ..."
   ]
  }
 ],
 "metadata": {
  "kernelspec": {
   "display_name": "py27",
   "language": "python",
   "name": "py27"
  },
  "language_info": {
   "codemirror_mode": {
    "name": "ipython",
    "version": 3
   },
   "file_extension": ".py",
   "mimetype": "text/x-python",
   "name": "python",
   "nbconvert_exporter": "python",
   "pygments_lexer": "ipython3",
   "version": "3.10.12"
  }
 },
 "nbformat": 4,
 "nbformat_minor": 5
}
