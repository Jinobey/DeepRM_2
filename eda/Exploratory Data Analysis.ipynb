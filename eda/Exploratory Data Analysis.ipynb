{
 "cells": [
  {
   "cell_type": "markdown",
   "id": "5e25ea09-74d6-47e6-bad6-e922f52c3532",
   "metadata": {},
   "source": [
    "# Personal Information\n",
    "Name: **Thomas Erhard**\n",
    "\n",
    "StudentID: **15081931**\n",
    "\n",
    "Email: [**thomas.erhard@student.uva.nl**](thomas.erhard@student.uva.nl)\n",
    "\n",
    "Submitted on: **22.03.2024**"
   ]
  },
  {
   "cell_type": "markdown",
   "id": "e3cf6243-adfe-4eb8-bba3-bb2835079abd",
   "metadata": {},
   "source": [
    "# Data Context\n",
    "**In this section you should introduce the datasources and datasets which you will be working with. Explain where they are from as well as their domain. Give an overview of what the context of the data is. You should not spend more than 1 to 2 paragraphs here as the core information will be in the next section.**"
   ]
  },
  {
   "cell_type": "markdown",
   "id": "a833d964-56e1-49c7-8172-7435357624aa",
   "metadata": {},
   "source": [
    "# Data Description\n",
    "\n",
    "**Present here the results of your exploratory data analysis. Note that there is no need to have a \"story line\" - it is more important that you show your understanding of the data and the methods that you will be using in your experiments (i.e. your methodology).**\n",
    "\n",
    "**As an example, you could show data, label, or group balances, skewness, and basic characterizations of the data. Information about data frequency and distributions as well as results from reduction mechanisms such as PCA could be useful. Furthermore, indicate outliers and how/why you are taking them out of your samples, if you do so.**\n",
    "\n",
    "**The idea is, that you conduct this analysis to a) understand the data better but b) also to verify the shapes of the distributions and whether they meet the assumptions of the methods that you will attempt to use. Finally, make good use of images, diagrams, and tables to showcase what information you have extracted from your data.**\n",
    "\n",
    "As you can see, you are in a jupyter notebook environment here. This means that you should focus little on writing text and more on actually exploring your data. If you need to, you can use the amsmath environment in-line: $e=mc^2$ or also in separate equations such as here:\n",
    "\n",
    "\\begin{equation}\n",
    "    e=mc^2 \\mathrm{\\space where \\space} e,m,c\\in \\mathbb{R}\n",
    "\\end{equation}\n",
    "\n",
    "Furthermore, you can insert images such as your data aggregation diagrams like this:\n",
    "\n",
    "![image](example.png)"
   ]
  },
  {
   "cell_type": "code",
   "execution_count": 1,
   "id": "534317db-d881-4e33-a358-754e2881e8bd",
   "metadata": {},
   "outputs": [],
   "source": [
    "# Imports\n",
    "import numpy as np\n",
    "import pandas as pd\n",
    "import matplotlib.pyplot as plt\n",
    "import seaborn as sns"
   ]
  },
  {
   "cell_type": "markdown",
   "id": "b582b299-f599-4140-a454-bcbfdeeb273f",
   "metadata": {},
   "source": [
    "### Data Loading"
   ]
  },
  {
   "cell_type": "code",
   "execution_count": 2,
   "id": "9f0cf9be-2cac-4227-957f-ad893212e70c",
   "metadata": {},
   "outputs": [
    {
     "data": {
      "text/html": [
       "<div>\n",
       "<style scoped>\n",
       "    .dataframe tbody tr th:only-of-type {\n",
       "        vertical-align: middle;\n",
       "    }\n",
       "\n",
       "    .dataframe tbody tr th {\n",
       "        vertical-align: top;\n",
       "    }\n",
       "\n",
       "    .dataframe thead th {\n",
       "        text-align: right;\n",
       "    }\n",
       "</style>\n",
       "<table border=\"1\" class=\"dataframe\">\n",
       "  <thead>\n",
       "    <tr style=\"text-align: right;\">\n",
       "      <th></th>\n",
       "      <th>Job Length</th>\n",
       "      <th>Job Resource 1</th>\n",
       "      <th>Job Resource 2</th>\n",
       "    </tr>\n",
       "  </thead>\n",
       "  <tbody>\n",
       "    <tr>\n",
       "      <th>0</th>\n",
       "      <td>16</td>\n",
       "      <td>1.0</td>\n",
       "      <td>10.0</td>\n",
       "    </tr>\n",
       "    <tr>\n",
       "      <th>1</th>\n",
       "      <td>2</td>\n",
       "      <td>2.0</td>\n",
       "      <td>9.0</td>\n",
       "    </tr>\n",
       "    <tr>\n",
       "      <th>2</th>\n",
       "      <td>3</td>\n",
       "      <td>6.0</td>\n",
       "      <td>2.0</td>\n",
       "    </tr>\n",
       "    <tr>\n",
       "      <th>3</th>\n",
       "      <td>3</td>\n",
       "      <td>1.0</td>\n",
       "      <td>9.0</td>\n",
       "    </tr>\n",
       "    <tr>\n",
       "      <th>4</th>\n",
       "      <td>21</td>\n",
       "      <td>10.0</td>\n",
       "      <td>1.0</td>\n",
       "    </tr>\n",
       "    <tr>\n",
       "      <th>...</th>\n",
       "      <td>...</td>\n",
       "      <td>...</td>\n",
       "      <td>...</td>\n",
       "    </tr>\n",
       "    <tr>\n",
       "      <th>99995</th>\n",
       "      <td>3</td>\n",
       "      <td>1.0</td>\n",
       "      <td>5.0</td>\n",
       "    </tr>\n",
       "    <tr>\n",
       "      <th>99996</th>\n",
       "      <td>1</td>\n",
       "      <td>2.0</td>\n",
       "      <td>7.0</td>\n",
       "    </tr>\n",
       "    <tr>\n",
       "      <th>99997</th>\n",
       "      <td>17</td>\n",
       "      <td>1.0</td>\n",
       "      <td>7.0</td>\n",
       "    </tr>\n",
       "    <tr>\n",
       "      <th>99998</th>\n",
       "      <td>3</td>\n",
       "      <td>2.0</td>\n",
       "      <td>7.0</td>\n",
       "    </tr>\n",
       "    <tr>\n",
       "      <th>99999</th>\n",
       "      <td>3</td>\n",
       "      <td>9.0</td>\n",
       "      <td>1.0</td>\n",
       "    </tr>\n",
       "  </tbody>\n",
       "</table>\n",
       "<p>100000 rows × 3 columns</p>\n",
       "</div>"
      ],
      "text/plain": [
       "       Job Length  Job Resource 1  Job Resource 2\n",
       "0              16             1.0            10.0\n",
       "1               2             2.0             9.0\n",
       "2               3             6.0             2.0\n",
       "3               3             1.0             9.0\n",
       "4              21            10.0             1.0\n",
       "...           ...             ...             ...\n",
       "99995           3             1.0             5.0\n",
       "99996           1             2.0             7.0\n",
       "99997          17             1.0             7.0\n",
       "99998           3             2.0             7.0\n",
       "99999           3             9.0             1.0\n",
       "\n",
       "[100000 rows x 3 columns]"
      ]
     },
     "execution_count": 2,
     "metadata": {},
     "output_type": "execute_result"
    }
   ],
   "source": [
    "# Load your data here\n",
    "df_jobs = pd.read_csv(\"../data/jobs.csv\")\n",
    "df_jobs"
   ]
  },
  {
   "cell_type": "markdown",
   "id": "b4df9546-a6d7-4678-aca6-cd13d5f3c79a",
   "metadata": {},
   "source": [
    "### Analysis 1: \n",
    "Make sure to add some explanation of what you are doing in your code. This will help you and whoever will read this a lot in following your steps."
   ]
  },
  {
   "cell_type": "code",
   "execution_count": 3,
   "id": "a889a6c7-aed8-4a0f-9925-c4f8e2fce1d5",
   "metadata": {},
   "outputs": [],
   "source": [
    "# Also don't forget to comment your code\n",
    "# This way it's also easier to spot thought errors along the way"
   ]
  },
  {
   "cell_type": "code",
   "execution_count": 32,
   "id": "4a6e7142-1a61-4e22-9bfe-5088ac6e1922",
   "metadata": {},
   "outputs": [
    {
     "data": {
      "image/png": "[encoded data removed]",
      "text/plain": [
       "<Figure size 1000x600 with 1 Axes>"
      ]
     },
     "metadata": {},
     "output_type": "display_data"
    }
   ],
   "source": [
    "# Splitting the jobs into two categories based on length\n",
    "jobs_small = df_jobs[df_jobs['Job Length'] <= 3.6 ]['Job Length']\n",
    "jobs_big = df_jobs[(df_jobs['Job Length'] >= 12) & (df_jobs['Job Length'] <= 18)]['Job Length']\n",
    "jobs_anomalous = df_jobs[df_jobs['Job Length'] > 18]['Job Length']\n",
    "\n",
    "# Set up the matplotlib figure\n",
    "plt.figure(figsize=(10, 6))\n",
    "\n",
    "# Plotting histograms for each category of job lengths\n",
    "plt.hist(jobs_small, bins=range(1, df_jobs['Job Length'].max() + 1), alpha=0.5, label='Normal Job Length (Small)', color=\"#96D38C\")\n",
    "plt.hist(jobs_big, bins=range(1, df_jobs['Job Length'].max() + 1), alpha=0.5, label='Normal Job Length (Big)', color=\"#3C8D2F\")\n",
    "plt.hist(jobs_anomalous, bins=range(1, df_jobs['Job Length'].max() + 1), alpha=0.5, label='Anomalous Job Length', color=\"#D32F2F\")\n",
    "\n",
    "# Customization\n",
    "plt.title('Distribution of Job Lengths')\n",
    "plt.xlabel('Job Length')\n",
    "plt.ylabel('Number of Jobs')\n",
    "plt.xticks(range(1, df_jobs['Job Length'].max() + 1))  # Adjust x-axis ticks for clarity\n",
    "plt.legend()  # Add a legend to distinguish between categories\n",
    "\n",
    "# Show plot\n",
    "plt.tight_layout()  # Adjust layout to make room for the plot elements\n",
    "plt.show()"
   ]
  },
  {
   "cell_type": "code",
   "execution_count": 30,
   "id": "bb577efd-8c82-48f0-bb2c-d488536df851",
   "metadata": {},
   "outputs": [
    {
     "data": {
      "text/plain": [
       "array([ 1,  2,  3, 12, 13, 14, 15, 16, 17, 18, 19, 20, 21, 22, 23, 24, 25,\n",
       "       26, 27, 28])"
      ]
     },
     "execution_count": 30,
     "metadata": {},
     "output_type": "execute_result"
    }
   ],
   "source": [
    "# Unqiue job lengths\n",
    "np.unique(df_jobs['Job Length'])"
   ]
  },
  {
   "cell_type": "code",
   "execution_count": 33,
   "id": "6bcb303c-e27a-434d-9b7f-baa500873a35",
   "metadata": {},
   "outputs": [
    {
     "name": "stdout",
     "output_type": "stream",
     "text": [
      "Total Jobs: 100000\n",
      "Normal Jobs: 94895 (94.89%)\n",
      "Anomalous Jobs: 5105 (5.10%)\n",
      "Small Jobs: 69841 (69.84%)\n",
      "Big Jobs: 25054 (25.05%)\n"
     ]
    }
   ],
   "source": [
    "# Total number of jobs\n",
    "total_jobs = len(df_jobs)\n",
    "\n",
    "# Normal and Anomalous Jobs\n",
    "normal_jobs = df_jobs[df_jobs['Job Length'] <= 18]\n",
    "anomalous_jobs = df_jobs[df_jobs['Job Length'] > 18]\n",
    "\n",
    "# Small and Big Jobs (within normal jobs)\n",
    "small_jobs = df_jobs[df_jobs['Job Length'] <= 3.6]\n",
    "big_jobs = df_jobs[(df_jobs['Job Length'] > 3.6) & (df_jobs['Job Length'] <= 18)]\n",
    "\n",
    "# Calculate counts\n",
    "count_normal = len(normal_jobs)\n",
    "count_anomalous = len(anomalous_jobs)\n",
    "count_small = len(small_jobs)\n",
    "count_big = len(big_jobs)\n",
    "\n",
    "# Calculate proportions\n",
    "prop_normal = count_normal / total_jobs\n",
    "prop_anomalous = count_anomalous / total_jobs\n",
    "prop_small = count_small / total_jobs\n",
    "prop_big = count_big / total_jobs\n",
    "\n",
    "# Print results\n",
    "print(f\"Total Jobs: {total_jobs}\")\n",
    "print(f\"Normal Jobs: {count_normal} ({prop_normal:.2%})\")\n",
    "print(f\"Anomalous Jobs: {count_anomalous} ({prop_anomalous:.2%})\")\n",
    "print(f\"Small Jobs: {count_small} ({prop_small:.2%})\")\n",
    "print(f\"Big Jobs: {count_big} ({prop_big:.2%})\")"
   ]
  },
  {
   "cell_type": "markdown",
   "id": "34f5c349-2290-4706-a274-c7a31573f7db",
   "metadata": {},
   "source": [
    "We can observe, that the job lengths are in two categorised into two categories, normal and anomalous jobs. Anomalous jobs have a lengths of 18 or higher, while jobs with a length equal or less than 18 are considered normal. It can be observed, that the distribution of normal jobs is quite interesting, with again two categories, small and big jobs. Small jobs are defined as $[1, J_L /5] = [1, 18 /5] = [1, 3.6]$ and big jobs are defined as $[J_L * 2/3, J_L] = [18 * 2/3, 18] = [12, 18]$,\n",
    "\n",
    "where $J_L$ = Job Length.\n",
    "\n",
    "There are no jobs\n",
    "\n"
   ]
  },
  {
   "cell_type": "markdown",
   "id": "c2b796dc-f69d-4686-b802-bd0d8f679ee8",
   "metadata": {},
   "source": [
    "### Analysis 2: "
   ]
  },
  {
   "cell_type": "code",
   "execution_count": 4,
   "id": "c33b453f-1bc2-4cad-8021-e548d307f154",
   "metadata": {},
   "outputs": [],
   "source": [
    "# ..."
   ]
  },
  {
   "cell_type": "markdown",
   "id": "f273bea3-ecaa-4fac-83d0-5fe547b7873d",
   "metadata": {},
   "source": [
    "### Analysis n:"
   ]
  },
  {
   "cell_type": "code",
   "execution_count": 5,
   "id": "60074a1b-1ae5-46e8-971f-100199861c9c",
   "metadata": {},
   "outputs": [],
   "source": [
    "# ..."
   ]
  }
 ],
 "metadata": {
  "kernelspec": {
   "display_name": "py27",
   "language": "python",
   "name": "py27"
  },
  "language_info": {
   "codemirror_mode": {
    "name": "ipython",
    "version": 3
   },
   "file_extension": ".py",
   "mimetype": "text/x-python",
   "name": "python",
   "nbconvert_exporter": "python",
   "pygments_lexer": "ipython3",
   "version": "3.10.12"
  },
  "vscode": {
   "interpreter": {
    "hash": "f4bc7a400e35f160b13ed52195005e41b219907c1be09b125a1c17e685484faa"
   }
  }
 },
 "nbformat": 4,
 "nbformat_minor": 5
}
