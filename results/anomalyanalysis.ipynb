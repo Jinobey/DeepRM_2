{
 "cells": [
  {
   "cell_type": "code",
   "execution_count": 62,
   "metadata": {},
   "outputs": [],
   "source": [
    "import pandas as pd\n",
    "import numpy as np\n",
    "import matplotlib.pyplot as plt\n",
    "import seaborn as sns"
   ]
  },
  {
   "cell_type": "code",
   "execution_count": 2,
   "metadata": {},
   "outputs": [],
   "source": [
    "def has_high_resource(row):\n",
    "    # Check if any resource requirement is above 10\n",
    "    return np.any(np.array(row['job ressource requirement']) > 10)"
   ]
  },
  {
   "cell_type": "code",
   "execution_count": 3,
   "metadata": {},
   "outputs": [],
   "source": [
    "def convert_to_list(row):\n",
    "    if isinstance(row, list):\n",
    "        return row\n",
    "    # Remove brackets and split on space\n",
    "    items = row.replace('[', '').replace(']', '').split(' ')\n",
    "    # Remove any empty strings caused by extra spaces\n",
    "    items = [item for item in items if item != '']\n",
    "    # Convert strings to integers\n",
    "    items = [int(item) for item in items]\n",
    "    return items"
   ]
  },
  {
   "cell_type": "code",
   "execution_count": 21,
   "metadata": {},
   "outputs": [],
   "source": [
    "def has_high_length(row):\n",
    "    # Check if any job length is above 18\n",
    "    return row['job Length'] > 18"
   ]
  },
  {
   "cell_type": "markdown",
   "metadata": {},
   "source": [
    "DeepRM_2"
   ]
  },
  {
   "cell_type": "code",
   "execution_count": 54,
   "metadata": {},
   "outputs": [],
   "source": [
    "df_RM2_M1 = pd.read_csv('../experiments/DeepRM_2/simu50,numex15/allocatedJobsM1.csv')\n",
    "df_RM2_M2 = pd.read_csv('../experiments/DeepRM_2/simu50,numex15/allocatedJobsM2.csv')\n",
    "df_RM2_M1_2 = pd.concat([df_RM2_M1, df_RM2_M2], ignore_index=True) \n",
    "\n",
    "df_RM2_M3 = pd.read_csv('../experiments/DeepRM_2/simu50,numex15/allocatedJobsM3.csv')"
   ]
  },
  {
   "cell_type": "code",
   "execution_count": 55,
   "metadata": {},
   "outputs": [],
   "source": [
    "df_RM2_M1_2['job ressource requirement'] = df_RM2_M1_2['job ressource requirement'].apply(convert_to_list)\n",
    "df_RM2_M3['job ressource requirement'] = df_RM2_M3['job ressource requirement'].apply(convert_to_list)\n",
    "\n",
    "df_RM2_M1_2['high_resource'] = df_RM2_M1_2.apply(has_high_resource, axis=1)\n",
    "df_RM2_M3['high_resource'] = df_RM2_M3.apply(has_high_resource, axis=1)\n",
    "\n",
    "df_RM2_M1_2['high_length'] = df_RM2_M1_2.apply(has_high_length, axis=1)\n",
    "df_RM2_M3['high_length'] = df_RM2_M3.apply(has_high_length, axis=1)\n",
    "\n",
    "df_RM2_M1_2['high_length_or_resource'] = df_RM2_M1_2['high_length'] | df_RM2_M1_2['high_resource']\n",
    "df_RM2_M3['high_length_or_resource'] = df_RM2_M3['high_length'] | df_RM2_M3['high_resource']"
   ]
  },
  {
   "cell_type": "code",
   "execution_count": 56,
   "metadata": {},
   "outputs": [
    {
     "name": "stdout",
     "output_type": "stream",
     "text": [
      "62\n",
      "485\n"
     ]
    }
   ],
   "source": [
    "edge_high_length_or_resource = df_RM2_M1_2['high_length_or_resource'].sum()\n",
    "cloud_high_length_or_resource = df_RM2_M3['high_length_or_resource'].sum()\n",
    "\n",
    "print(edge_high_length_or_resource)\n",
    "print(cloud_high_length_or_resource)"
   ]
  },
  {
   "cell_type": "code",
   "execution_count": 87,
   "metadata": {},
   "outputs": [
    {
     "name": "stdout",
     "output_type": "stream",
     "text": [
      "TN: 57 \n",
      "FN: 62 \n",
      "TP: 485 \n",
      "FP: 127 \n",
      "\n",
      "Recall: 0.886654478976234 \n",
      "Precision: 0.7924836601307189 \n",
      "F1-Score: 0.8369283865401207 \n",
      "Accuracy: 0.7414500683994528\n"
     ]
    }
   ],
   "source": [
    "# True negatives \n",
    "TN = len(df_RM2_M1_2[(df_RM2_M1_2['high_resource'] == False) & (df_RM2_M1_2['high_length'] == False)])\n",
    "\n",
    "# False negatives (anomalous jobs incorrectly identified as non-anomalies)\n",
    "FN = len(df_RM2_M1_2[(df_RM2_M1_2['high_resource'] == True) | (df_RM2_M1_2['high_length'] == True)])\n",
    "\n",
    "# True positives\n",
    "TP = len(df_RM2_M3[(df_RM2_M3['high_resource'] == True) | (df_RM2_M3['high_length'] == True)])\n",
    "\n",
    "# False positives (non-anomalous jobs incorrectly identified as anomalies)\n",
    "FP = len(df_RM2_M3[(df_RM2_M3['high_resource'] == False) & (df_RM2_M3['high_length'] == False)])\n",
    "\n",
    "# Metrics calculation\n",
    "recall = float(TP) / (TP + FN)\n",
    "precision = float(TP) / (TP + FP)\n",
    "f1_score = 2 * (precision * recall) / (precision + recall)\n",
    "accuracy = (TP + TN) / (TP + TN + FP + FN)\n",
    "\n",
    "print(\"TN:\", TN, \"\\n\"\n",
    "      \"FN:\", FN, \"\\n\"\n",
    "      \"TP:\", TP, \"\\n\"\n",
    "      \"FP:\", FP, \"\\n\")\n",
    "\n",
    "print(\"Recall:\", recall, \"\\n\"\n",
    "      \"Precision:\", precision, \"\\n\"\n",
    "      \"F1-Score:\", f1_score, \"\\n\"\n",
    "      \"Accuracy:\", accuracy)"
   ]
  },
  {
   "cell_type": "code",
   "execution_count": 84,
   "metadata": {},
   "outputs": [
    {
     "data": {
      "image/png": "[encoded data removed]",
      "text/plain": [
       "<Figure size 800x600 with 1 Axes>"
      ]
     },
     "metadata": {},
     "output_type": "display_data"
    }
   ],
   "source": [
    "# Confusion matrix\n",
    "confusion_df = [[TN, FP],\n",
    "                [FN, TP]]\n",
    "\n",
    "labels = [['TN: {}\\n'.format(TN), 'FP: {}\\n'.format(FP)], \n",
    "          ['FN: {}\\n'.format(FN), 'TP: {}\\n'.format(TP)]]\n",
    "\n",
    "plt.figure(figsize=(8, 6))\n",
    "sns.heatmap(confusion_df, annot=labels, fmt='', cmap='YlGnBu', cbar=False)\n",
    "plt.title('Confusion Matrix')\n",
    "plt.ylabel('Actual')\n",
    "plt.xlabel('Predicted')\n",
    "plt.show()"
   ]
  },
  {
   "cell_type": "markdown",
   "metadata": {},
   "source": [
    "DeepRM_ECO"
   ]
  },
  {
   "cell_type": "code",
   "execution_count": 43,
   "metadata": {},
   "outputs": [],
   "source": [
    "df_ECO_M1 = pd.read_csv('../experiments/DeepRM_2/simu50,numex15/allocatedJobsM1.csv')\n",
    "df_ECO_M2 = pd.read_csv('../experiments/DeepRM_2/simu50,numex15/allocatedJobsM2.csv')\n",
    "df_ECO_M1_2 = pd.concat([df_ECO_M1, df_ECO_M2], ignore_index=True) \n",
    "\n",
    "df_ECO_M3 = pd.read_csv('../experiments/DeepRM_2/simu50,numex15/allocatedJobsM3.csv')"
   ]
  },
  {
   "cell_type": "code",
   "execution_count": 44,
   "metadata": {},
   "outputs": [],
   "source": [
    "df_ECO_M1_2['job ressource requirement'] = df_ECO_M1_2['job ressource requirement'].apply(convert_to_list)\n",
    "df_ECO_M3['job ressource requirement'] = df_ECO_M3['job ressource requirement'].apply(convert_to_list)\n",
    "\n",
    "df_ECO_M1_2['high_resource'] = df_ECO_M1_2.apply(has_high_resource, axis=1)\n",
    "df_ECO_M3['high_resource'] = df_ECO_M3.apply(has_high_resource, axis=1)\n",
    "\n",
    "df_ECO_M1_2['high_length'] = df_ECO_M1_2.apply(has_high_length, axis=1)\n",
    "df_ECO_M3['high_length'] = df_ECO_M3.apply(has_high_length, axis=1)\n",
    "\n",
    "df_ECO_M1_2['high_length_or_resource'] = df_ECO_M1_2['high_length'] | df_ECO_M1_2['high_resource']\n",
    "df_ECO_M3['high_length_or_resource'] = df_ECO_M3['high_length'] | df_ECO_M3['high_resource']"
   ]
  },
  {
   "cell_type": "code",
   "execution_count": 45,
   "metadata": {},
   "outputs": [
    {
     "name": "stdout",
     "output_type": "stream",
     "text": [
      "62\n",
      "485\n"
     ]
    }
   ],
   "source": [
    "edge_high_length_or_resource = df_ECO_M1_2['high_length_or_resource'].sum()\n",
    "cloud_high_length_or_resource = df_ECO_M3['high_length_or_resource'].sum()\n",
    "\n",
    "print(edge_high_length_or_resource)\n",
    "print(cloud_high_length_or_resource)"
   ]
  },
  {
   "cell_type": "code",
   "execution_count": 46,
   "metadata": {},
   "outputs": [
    {
     "name": "stdout",
     "output_type": "stream",
     "text": [
      "TN: 57 \n",
      "FN: 62 \n",
      "TP: 485 \n",
      "FP: 127\n",
      "Precision: 0.7924836601307189 \n",
      "Recall: 0.886654478976234 \n",
      "F1-Score: 0.8369283865401207\n"
     ]
    }
   ],
   "source": [
    "# True negatives \n",
    "TN = len(df_ECO_M1_2[(df_ECO_M1_2['high_resource'] == False) & (df_ECO_M1_2['high_length'] == False)])\n",
    "\n",
    "# False negatives (anomalous jobs incorrectly identified as non-anomalies)\n",
    "FN = len(df_ECO_M1_2[(df_ECO_M1_2['high_resource'] == True) | (df_ECO_M1_2['high_length'] == True)])\n",
    "\n",
    "# True positives\n",
    "TP = len(df_ECO_M3[(df_ECO_M3['high_resource'] == True) | (df_ECO_M3['high_length'] == True)])\n",
    "\n",
    "# False positives (non-anomalous jobs incorrectly identified as anomalies)\n",
    "FP = len(df_ECO_M3[(df_ECO_M3['high_resource'] == False) & (df_ECO_M3['high_length'] == False)])\n",
    "\n",
    "# Recall calculation\n",
    "recall = float(TP) / (TP + FN)\n",
    "recall\n",
    "\n",
    "# Precision calculation\n",
    "precision = float(TP) / (TP + FP)\n",
    "precision\n",
    "\n",
    "f1_score = 2 * (precision * recall) / (precision+recall)\n",
    "f1_score\n",
    "\n",
    "print(\"TN:\", TN, \"\\n\"\n",
    "      \"FN:\", FN, \"\\n\"\n",
    "      \"TP:\", TP, \"\\n\"\n",
    "      \"FP:\", FP)\n",
    "print(\"Precision:\", precision, \"\\n\"\n",
    "      \"Recall:\", recall, \"\\n\"\n",
    "      \"F1-Score:\", f1_score)"
   ]
  }
 ],
 "metadata": {
  "kernelspec": {
   "display_name": "p2venv",
   "language": "python",
   "name": "python3"
  },
  "language_info": {
   "codemirror_mode": {
    "name": "ipython",
    "version": 3
   },
   "file_extension": ".py",
   "mimetype": "text/x-python",
   "name": "python",
   "nbconvert_exporter": "python",
   "pygments_lexer": "ipython3",
   "version": "3.9.12"
  },
  "orig_nbformat": 4
 },
 "nbformat": 4,
 "nbformat_minor": 2
}
