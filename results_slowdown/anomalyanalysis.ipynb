{
 "cells": [
  {
   "cell_type": "code",
   "execution_count": 1,
   "metadata": {},
   "outputs": [],
   "source": [
    "import pandas as pd\n",
    "import numpy as np"
   ]
  },
  {
   "cell_type": "code",
   "execution_count": 3,
   "metadata": {},
   "outputs": [],
   "source": [
    "df_ADNR_A01 = pd.read_csv('../data_ADNR/with0.1anomaly/allocatedJobs.csv')\n",
    "df_ADNR_M01 = pd.read_csv('../data_ADNR/with0.1anomaly/destroyedJobs.csv')"
   ]
  },
  {
   "cell_type": "code",
   "execution_count": 4,
   "metadata": {},
   "outputs": [],
   "source": [
    "def has_high_resource(row):\n",
    "    # Check if any resource requirement is above 10\n",
    "    return np.any(np.array(row['job ressource requirement']) > 10)"
   ]
  },
  {
   "cell_type": "code",
   "execution_count": 6,
   "metadata": {},
   "outputs": [],
   "source": [
    "def convert_to_list(row):\n",
    "    # Remove brackets and split on space\n",
    "    items = row.replace('[', '').replace(']', '').split(' ')\n",
    "    # Remove any empty strings caused by extra spaces\n",
    "    items = [item for item in items if item != '']\n",
    "    # Convert strings to integers\n",
    "    items = [int(item) for item in items]\n",
    "    return items"
   ]
  },
  {
   "cell_type": "code",
   "execution_count": 5,
   "metadata": {},
   "outputs": [],
   "source": [
    "def has_high_length(row):\n",
    "    return row['job Length'] >= 23"
   ]
  },
  {
   "cell_type": "code",
   "execution_count": 7,
   "metadata": {},
   "outputs": [],
   "source": [
    "df_ADNR_A01['job ressource requirement'] = df_ADNR_A01['job ressource requirement'].apply(convert_to_list)\n",
    "df_ADNR_M01['job ressource requirement'] = df_ADNR_M01['job ressource requirement'].apply(convert_to_list)"
   ]
  },
  {
   "cell_type": "code",
   "execution_count": 8,
   "metadata": {},
   "outputs": [],
   "source": [
    "df_ADNR_A01['high_resource'] = df_ADNR_A01.apply(has_high_resource, axis=1)\n",
    "df_ADNR_M01['high_resource'] = df_ADNR_M01.apply(has_high_resource, axis=1)"
   ]
  },
  {
   "cell_type": "code",
   "execution_count": 9,
   "metadata": {},
   "outputs": [],
   "source": [
    "# Apply the function to both dataframes\n",
    "df_ADNR_A01['high_length'] = df_ADNR_A01.apply(has_high_length, axis=1)\n",
    "df_ADNR_M01['high_length'] = df_ADNR_M01.apply(has_high_length, axis=1)"
   ]
  },
  {
   "cell_type": "code",
   "execution_count": 10,
   "metadata": {},
   "outputs": [],
   "source": [
    "# Create a new column that is True when either high_length or high_resource is True\n",
    "df_ADNR_A01['high_length_or_resource'] = df_ADNR_A01['high_length'] | df_ADNR_A01['high_resource']\n",
    "df_ADNR_M01['high_length_or_resource'] = df_ADNR_M01['high_length'] | df_ADNR_M01['high_resource']"
   ]
  },
  {
   "cell_type": "code",
   "execution_count": 11,
   "metadata": {},
   "outputs": [
    {
     "name": "stdout",
     "output_type": "stream",
     "text": [
      "('Proportion of jobs with either high length or high resource that were destroyed:', 0.7463471654003506)\n"
     ]
    }
   ],
   "source": [
    "allocated_high_length_or_resource = df_ADNR_A01['high_length_or_resource'].sum()\n",
    "destroyed_high_length_or_resource = df_ADNR_M01['high_length_or_resource'].sum()\n",
    "\n",
    "# Calculate the total number of jobs that satisfy either condition\n",
    "total_high_length_or_resource = allocated_high_length_or_resource + destroyed_high_length_or_resource\n",
    "\n",
    "# Calculate the proportion of these jobs that were destroyed\n",
    "proportion_destroyed_length_or_resource = float(destroyed_high_length_or_resource) / total_high_length_or_resource\n",
    "\n",
    "print(\"Proportion of jobs with either high length or high resource that were destroyed:\", proportion_destroyed_length_or_resource)"
   ]
  },
  {
   "cell_type": "code",
   "execution_count": 14,
   "metadata": {},
   "outputs": [
    {
     "data": {
      "text/plain": [
       "0.31045380875202594"
      ]
     },
     "execution_count": 14,
     "metadata": {},
     "output_type": "execute_result"
    }
   ],
   "source": [
    "TP = len(df_ADNR_M01[(df_ADNR_M01['high_resource'] == True) | (df_ADNR_M01['high_length'] == True)])\n",
    "\n",
    "# False positives (non-anomalous jobs incorrectly identified as anomalies)\n",
    "FP = len(df_ADNR_M01[(df_ADNR_M01['high_resource'] == False) & (df_ADNR_M01['high_length'] == False)])\n",
    "\n",
    "# Precision calculation\n",
    "precision = float(TP) / (TP + FP)\n",
    "precision"
   ]
  },
  {
   "cell_type": "code",
   "execution_count": 15,
   "metadata": {},
   "outputs": [
    {
     "data": {
      "text/plain": [
       "0.43850512218851945"
      ]
     },
     "execution_count": 15,
     "metadata": {},
     "output_type": "execute_result"
    }
   ],
   "source": [
    "f1_score = 2 * (precision * proportion_destroyed_length_or_resource) / (precision+proportion_destroyed_length_or_resource)\n",
    "f1_score"
   ]
  },
  {
   "cell_type": "code",
   "execution_count": 17,
   "metadata": {},
   "outputs": [],
   "source": [
    "df_ADNR_A03 = pd.read_csv('../data_ADNR/with0.3anomaly/allocatedJobs.csv')\n",
    "df_ADNR_M03 = pd.read_csv('../data_ADNR/with0.3anomaly/destroyedJobs.csv')"
   ]
  },
  {
   "cell_type": "code",
   "execution_count": 18,
   "metadata": {},
   "outputs": [
    {
     "name": "stdout",
     "output_type": "stream",
     "text": [
      "(0.8489798512680353, 0.6895003097253768, 0.6172063798936684, 0.6513535034021003)\n"
     ]
    }
   ],
   "source": [
    "df_ADNR_A03['job ressource requirement'] = df_ADNR_A03['job ressource requirement'].apply(convert_to_list)\n",
    "df_ADNR_M03['job ressource requirement'] = df_ADNR_M03['job ressource requirement'].apply(convert_to_list)\n",
    "\n",
    "df_ADNR_A03['high_resource'] = df_ADNR_A03.apply(has_high_resource, axis=1)\n",
    "df_ADNR_M03['high_resource'] = df_ADNR_M03.apply(has_high_resource, axis=1)\n",
    "\n",
    "df_ADNR_A03['high_length'] = df_ADNR_A03.apply(has_high_length, axis=1)\n",
    "df_ADNR_M03['high_length'] = df_ADNR_M03.apply(has_high_length, axis=1)\n",
    "\n",
    "df_ADNR_A03['high_length_or_resource'] = df_ADNR_A03['high_length'] | df_ADNR_A03['high_resource']\n",
    "df_ADNR_M03['high_length_or_resource'] = df_ADNR_M03['high_length'] | df_ADNR_M03['high_resource']\n",
    "\n",
    "allocated_high_length_or_resource = df_ADNR_A03['high_length_or_resource'].sum()\n",
    "destroyed_high_length_or_resource = df_ADNR_M03['high_length_or_resource'].sum()\n",
    "\n",
    "# Calculate the total number of jobs that satisfy either condition\n",
    "total_high_length_or_resource = allocated_high_length_or_resource + destroyed_high_length_or_resource\n",
    "\n",
    "# Calculate the proportion of these jobs that were destroyed\n",
    "proportion_destroyed_length_or_resource = float(destroyed_high_length_or_resource) / total_high_length_or_resource\n",
    "\n",
    "TN = len(df_ADNR_A03[(df_ADNR_A03['high_resource'] == False) & (df_ADNR_A03['high_length'] == False)])\n",
    "\n",
    "# False negatives (anomalous jobs incorrectly identified as non-anomalies)\n",
    "FN = len(df_ADNR_A03[(df_ADNR_A03['high_resource'] == True) | (df_ADNR_A03['high_length'] == True)])\n",
    "\n",
    "# Recall calculation\n",
    "recall = float(TP) / (TP + FN)\n",
    "recall\n",
    "\n",
    "TP = len(df_ADNR_M03[(df_ADNR_M03['high_resource'] == True) | (df_ADNR_M03['high_length'] == True)])\n",
    "\n",
    "# False positives (non-anomalous jobs incorrectly identified as anomalies)\n",
    "FP = len(df_ADNR_M03[(df_ADNR_M03['high_resource'] == False) & (df_ADNR_M03['high_length'] == False)])\n",
    "\n",
    "# Precision calculation\n",
    "precision = float(TP) / (TP + FP)\n",
    "precision\n",
    "\n",
    "f1_score = 2 * (precision * recall) / (precision+recall)\n",
    "f1_score\n",
    "\n",
    "print(proportion_destroyed_length_or_resource, precision, recall, f1_score)"
   ]
  },
  {
   "cell_type": "code",
   "execution_count": 19,
   "metadata": {},
   "outputs": [],
   "source": [
    "df_ADNR_A05 = pd.read_csv('../data_ADNR/with0.5anomaly/allocatedJobs.csv')\n",
    "df_ADNR_M05 = pd.read_csv('../data_ADNR/with0.5anomaly/destroyedJobs.csv')"
   ]
  },
  {
   "cell_type": "code",
   "execution_count": 20,
   "metadata": {},
   "outputs": [
    {
     "name": "stdout",
     "output_type": "stream",
     "text": [
      "(0.9361011511605963, 0.9357656247052387, 0.7977662306635609, 0.8612731434886867)\n"
     ]
    }
   ],
   "source": [
    "df_ADNR_A05['job ressource requirement'] = df_ADNR_A05['job ressource requirement'].apply(convert_to_list)\n",
    "df_ADNR_M05['job ressource requirement'] = df_ADNR_M05['job ressource requirement'].apply(convert_to_list)\n",
    "\n",
    "df_ADNR_A05['high_resource'] = df_ADNR_A05.apply(has_high_resource, axis=1)\n",
    "df_ADNR_M05['high_resource'] = df_ADNR_M05.apply(has_high_resource, axis=1)\n",
    "\n",
    "df_ADNR_A05['high_length'] = df_ADNR_A05.apply(has_high_length, axis=1)\n",
    "df_ADNR_M05['high_length'] = df_ADNR_M05.apply(has_high_length, axis=1)\n",
    "\n",
    "df_ADNR_A05['high_length_or_resource'] = df_ADNR_A05['high_length'] | df_ADNR_A05['high_resource']\n",
    "df_ADNR_M05['high_length_or_resource'] = df_ADNR_M05['high_length'] | df_ADNR_M05['high_resource']\n",
    "\n",
    "allocated_high_length_or_resource = df_ADNR_A05['high_length_or_resource'].sum()\n",
    "destroyed_high_length_or_resource = df_ADNR_M05['high_length_or_resource'].sum()\n",
    "\n",
    "# Calculate the total number of jobs that satisfy either condition\n",
    "total_high_length_or_resource = allocated_high_length_or_resource + destroyed_high_length_or_resource\n",
    "\n",
    "# Calculate the proportion of these jobs that were destroyed\n",
    "proportion_destroyed_length_or_resource = float(destroyed_high_length_or_resource) / total_high_length_or_resource\n",
    "\n",
    "TN = len(df_ADNR_A05[(df_ADNR_A05['high_resource'] == False) & (df_ADNR_A05['high_length'] == False)])\n",
    "\n",
    "# False negatives (anomalous jobs incorrectly identified as non-anomalies)\n",
    "FN = len(df_ADNR_A05[(df_ADNR_A05['high_resource'] == True) | (df_ADNR_A05['high_length'] == True)])\n",
    "\n",
    "# Recall calculation\n",
    "recall = float(TP) / (TP + FN)\n",
    "recall\n",
    "\n",
    "TP = len(df_ADNR_M05[(df_ADNR_M05['high_resource'] == True) | (df_ADNR_M05['high_length'] == True)])\n",
    "\n",
    "# False positives (non-anomalous jobs incorrectly identified as anomalies)\n",
    "FP = len(df_ADNR_M05[(df_ADNR_M05['high_resource'] == False) & (df_ADNR_M05['high_length'] == False)])\n",
    "\n",
    "# Precision calculation\n",
    "precision = float(TP) / (TP + FP)\n",
    "precision\n",
    "\n",
    "f1_score = 2 * (precision * recall) / (precision+recall)\n",
    "f1_score\n",
    "\n",
    "print(proportion_destroyed_length_or_resource, precision, recall, f1_score)"
   ]
  },
  {
   "cell_type": "code",
   "execution_count": 21,
   "metadata": {},
   "outputs": [],
   "source": [
    "df_AD_A01 = pd.read_csv('../data_AD/anomalyrate0.1/allocatedJobs.csv')\n",
    "df_AD_M01 = pd.read_csv('../data_AD/anomalyrate0.1/destroyedJobs.csv')"
   ]
  },
  {
   "cell_type": "code",
   "execution_count": 22,
   "metadata": {},
   "outputs": [
    {
     "name": "stdout",
     "output_type": "stream",
     "text": [
      "(0.7760620410404228, 0.2877060858945654, 0.9382790776855127, 0.4403782507928032)\n"
     ]
    }
   ],
   "source": [
    "df_AD_A01['job ressource requirement'] = df_AD_A01['job ressource requirement'].apply(convert_to_list)\n",
    "df_AD_M01['job ressource requirement'] = df_AD_M01['job ressource requirement'].apply(convert_to_list)\n",
    "\n",
    "df_AD_A01['high_resource'] = df_AD_A01.apply(has_high_resource, axis=1)\n",
    "df_AD_M01['high_resource'] = df_AD_M01.apply(has_high_resource, axis=1)\n",
    "\n",
    "df_AD_A01['high_length'] = df_AD_A01.apply(has_high_length, axis=1)\n",
    "df_AD_M01['high_length'] = df_AD_M01.apply(has_high_length, axis=1)\n",
    "\n",
    "df_AD_A01['high_length_or_resource'] = df_AD_A01['high_length'] | df_AD_A01['high_resource']\n",
    "df_AD_M01['high_length_or_resource'] = df_AD_M01['high_length'] | df_AD_M01['high_resource']\n",
    "\n",
    "allocated_high_length_or_resource = df_AD_A01['high_length_or_resource'].sum()\n",
    "destroyed_high_length_or_resource = df_AD_M01['high_length_or_resource'].sum()\n",
    "\n",
    "# Calculate the total number of jobs that satisfy either condition\n",
    "total_high_length_or_resource = allocated_high_length_or_resource + destroyed_high_length_or_resource\n",
    "\n",
    "# Calculate the proportion of these jobs that were destroyed\n",
    "proportion_destroyed_length_or_resource = float(destroyed_high_length_or_resource) / total_high_length_or_resource\n",
    "\n",
    "TN = len(df_AD_A01[(df_AD_A01['high_resource'] == False) & (df_AD_A01['high_length'] == False)])\n",
    "\n",
    "# False negatives (anomalous jobs incorrectly identified as non-anomalies)\n",
    "FN = len(df_AD_A01[(df_AD_A01['high_resource'] == True) | (df_AD_A01['high_length'] == True)])\n",
    "\n",
    "# Recall calculation\n",
    "recall = float(TP) / (TP + FN)\n",
    "recall\n",
    "\n",
    "TP = len(df_AD_M01[(df_AD_M01['high_resource'] == True) | (df_AD_M01['high_length'] == True)])\n",
    "\n",
    "# False positives (non-anomalous jobs incorrectly identified as anomalies)\n",
    "FP = len(df_AD_M01[(df_AD_M01['high_resource'] == False) & (df_AD_M01['high_length'] == False)])\n",
    "\n",
    "# Precision calculation\n",
    "precision = float(TP) / (TP + FP)\n",
    "precision\n",
    "\n",
    "f1_score = 2 * (precision * recall) / (precision+recall)\n",
    "f1_score\n",
    "\n",
    "print(proportion_destroyed_length_or_resource, precision, recall, f1_score)"
   ]
  },
  {
   "cell_type": "code",
   "execution_count": 23,
   "metadata": {},
   "outputs": [],
   "source": [
    "df_AD_A03 = pd.read_csv('../data_AD/anomalyrate0.3/allocatedJobs.csv')\n",
    "df_AD_M03 = pd.read_csv('../data_AD/anomalyrate0.3/destroyedJobs.csv')"
   ]
  },
  {
   "cell_type": "code",
   "execution_count": 24,
   "metadata": {},
   "outputs": [
    {
     "name": "stdout",
     "output_type": "stream",
     "text": [
      "(0.8814262805395717, 0.7624228248157315, 0.7499171032561841, 0.7561182583748092)\n"
     ]
    }
   ],
   "source": [
    "df_AD_A03['job ressource requirement'] = df_AD_A03['job ressource requirement'].apply(convert_to_list)\n",
    "df_AD_M03['job ressource requirement'] = df_AD_M03['job ressource requirement'].apply(convert_to_list)\n",
    "\n",
    "df_AD_A03['high_resource'] = df_AD_A03.apply(has_high_resource, axis=1)\n",
    "df_AD_M03['high_resource'] = df_AD_M03.apply(has_high_resource, axis=1)\n",
    "\n",
    "df_AD_A03['high_length'] = df_AD_A03.apply(has_high_length, axis=1)\n",
    "df_AD_M03['high_length'] = df_AD_M03.apply(has_high_length, axis=1)\n",
    "\n",
    "df_AD_A03['high_length_or_resource'] = df_AD_A03['high_length'] | df_AD_A03['high_resource']\n",
    "df_AD_M03['high_length_or_resource'] = df_AD_M03['high_length'] | df_AD_M03['high_resource']\n",
    "\n",
    "allocated_high_length_or_resource = df_AD_A03['high_length_or_resource'].sum()\n",
    "destroyed_high_length_or_resource = df_AD_M03['high_length_or_resource'].sum()\n",
    "\n",
    "# Calculate the total number of jobs that satisfy either condition\n",
    "total_high_length_or_resource = allocated_high_length_or_resource + destroyed_high_length_or_resource\n",
    "\n",
    "# Calculate the proportion of these jobs that were destroyed\n",
    "proportion_destroyed_length_or_resource = float(destroyed_high_length_or_resource) / total_high_length_or_resource\n",
    "\n",
    "TN = len(df_AD_A03[(df_AD_A03['high_resource'] == False) & (df_AD_A03['high_length'] == False)])\n",
    "\n",
    "# False negatives (anomalous jobs incorrectly identified as non-anomalies)\n",
    "FN = len(df_AD_A03[(df_AD_A03['high_resource'] == True) | (df_AD_A03['high_length'] == True)])\n",
    "\n",
    "# Recall calculation\n",
    "recall = float(TP) / (TP + FN)\n",
    "recall\n",
    "\n",
    "TP = len(df_AD_M03[(df_AD_M03['high_resource'] == True) | (df_AD_M03['high_length'] == True)])\n",
    "\n",
    "# False positives (non-anomalous jobs incorrectly identified as anomalies)\n",
    "FP = len(df_AD_M03[(df_AD_M03['high_resource'] == False) & (df_AD_M03['high_length'] == False)])\n",
    "\n",
    "# Precision calculation\n",
    "precision = float(TP) / (TP + FP)\n",
    "precision\n",
    "\n",
    "f1_score = 2 * (precision * recall) / (precision+recall)\n",
    "f1_score\n",
    "\n",
    "print(proportion_destroyed_length_or_resource, precision, recall, f1_score)"
   ]
  },
  {
   "cell_type": "code",
   "execution_count": 25,
   "metadata": {},
   "outputs": [],
   "source": [
    "df_AD_A05 = pd.read_csv('../data_AD/anomalyrate0.5/allocatedJobs.csv')\n",
    "df_AD_M05 = pd.read_csv('../data_AD/anomalyrate0.5/destroyedJobs.csv')"
   ]
  },
  {
   "cell_type": "code",
   "execution_count": 26,
   "metadata": {},
   "outputs": [
    {
     "name": "stdout",
     "output_type": "stream",
     "text": [
      "(0.9440150765247849, 0.9415953063588205, 0.9050463306751041, 0.9229591274349627)\n"
     ]
    }
   ],
   "source": [
    "df_AD_A05['job ressource requirement'] = df_AD_A05['job ressource requirement'].apply(convert_to_list)\n",
    "df_AD_M05['job ressource requirement'] = df_AD_M05['job ressource requirement'].apply(convert_to_list)\n",
    "\n",
    "df_AD_A05['high_resource'] = df_AD_A05.apply(has_high_resource, axis=1)\n",
    "df_AD_M05['high_resource'] = df_AD_M05.apply(has_high_resource, axis=1)\n",
    "\n",
    "df_AD_A05['high_length'] = df_AD_A05.apply(has_high_length, axis=1)\n",
    "df_AD_M05['high_length'] = df_AD_M05.apply(has_high_length, axis=1)\n",
    "\n",
    "df_AD_A05['high_length_or_resource'] = df_AD_A05['high_length'] | df_AD_A05['high_resource']\n",
    "df_AD_M05['high_length_or_resource'] = df_AD_M05['high_length'] | df_AD_M05['high_resource']\n",
    "\n",
    "allocated_high_length_or_resource = df_AD_A05['high_length_or_resource'].sum()\n",
    "destroyed_high_length_or_resource = df_AD_M05['high_length_or_resource'].sum()\n",
    "\n",
    "# Calculate the total number of jobs that satisfy either condition\n",
    "total_high_length_or_resource = allocated_high_length_or_resource + destroyed_high_length_or_resource\n",
    "\n",
    "# Calculate the proportion of these jobs that were destroyed\n",
    "proportion_destroyed_length_or_resource = float(destroyed_high_length_or_resource) / total_high_length_or_resource\n",
    "\n",
    "TN = len(df_AD_A05[(df_AD_A05['high_resource'] == False) & (df_AD_A05['high_length'] == False)])\n",
    "\n",
    "# False negatives (anomalous jobs incorrectly identified as non-anomalies)\n",
    "FN = len(df_AD_A05[(df_AD_A05['high_resource'] == True) | (df_AD_A05['high_length'] == True)])\n",
    "\n",
    "# Recall calculation\n",
    "recall = float(TP) / (TP + FN)\n",
    "recall\n",
    "\n",
    "TP = len(df_AD_M05[(df_AD_M05['high_resource'] == True) | (df_AD_M05['high_length'] == True)])\n",
    "\n",
    "# False positives (non-anomalous jobs incorrectly identified as anomalies)\n",
    "FP = len(df_AD_M05[(df_AD_M05['high_resource'] == False) & (df_AD_M05['high_length'] == False)])\n",
    "\n",
    "# Precision calculation\n",
    "precision = float(TP) / (TP + FP)\n",
    "precision\n",
    "\n",
    "f1_score = 2 * (precision * recall) / (precision+recall)\n",
    "f1_score\n",
    "\n",
    "print(proportion_destroyed_length_or_resource, precision, recall, f1_score)"
   ]
  }
 ],
 "metadata": {
  "kernelspec": {
   "display_name": "p2venv",
   "language": "python",
   "name": "python3"
  },
  "language_info": {
   "codemirror_mode": {
    "name": "ipython",
    "version": 2
   },
   "file_extension": ".py",
   "mimetype": "text/x-python",
   "name": "python",
   "nbconvert_exporter": "python",
   "pygments_lexer": "ipython2",
   "version": "2.7.18"
  },
  "orig_nbformat": 4
 },
 "nbformat": 4,
 "nbformat_minor": 2
}
